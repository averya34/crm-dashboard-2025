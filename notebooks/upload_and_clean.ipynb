{
 "cells": [
  {
   "cell_type": "markdown",
   "metadata": {},
   "source": [
    "# CRM Dashboard 2025 - Data Upload and Cleaning\n",
    "\n",
    "This notebook handles:\n",
    "- Mounting Google Drive\n",
    "- Manual CSV selection from /CRM_Dashboard_Exports/\n",
    "- Data cleaning and merging\n",
    "- Derived field generation\n",
    "- Export to combined_crm_leads.csv"
   ]
  },
  {
   "cell_type": "code",
   "execution_count": null,
   "metadata": {},
   "outputs": [],
   "source": [
    "# Mount Google Drive\n",
    "from google.colab import drive\n",
    "drive.mount('/content/drive')"
   ]
  },
  {
   "cell_type": "code",
   "execution_count": null,
   "metadata": {},
   "outputs": [],
   "source": [
    "import pandas as pd\n",
    "import os\n",
    "from pathlib import Path\n",
    "\n",
    "# List available CSVs\n",
    "drive_folder = '/content/drive/MyDrive/CRM_Dashboard_Exports/'\n",
    "csv_files = [f for f in os.listdir(drive_folder) if f.endswith('.csv')]\n",
    "\n",
    "print('Available CSV files:')\n",
    "for i, file in enumerate(csv_files, 1):\n",
    "    print(f'{i}. {file}')"
   ]
  },
  {
   "cell_type": "code",
   "execution_count": null,
   "metadata": {},
   "outputs": [],
   "source": [
    "# Manual selection\n",
    "selection = input('Enter file numbers to process (comma-separated, e.g., 1,3,5): ')\n",
    "selected_indices = [int(x.strip()) - 1 for x in selection.split(',')]\n",
    "selected_files = [csv_files[i] for i in selected_indices]\n",
    "\n",
    "print('Selected files:')\n",
    "for f in selected_files:\n",
    "    print(f'  - {f}')"
   ]
  },
  {
   "cell_type": "code",
   "execution_count": null,
   "metadata": {},
   "outputs": [],
   "source": [
    "# Load and merge selected CSVs\n",
    "dfs = []\n",
    "for file in selected_files:\n",
    "    df_temp = pd.read_csv(os.path.join(drive_folder, file))\n",
    "    dfs.append(df_temp)\n",
    "\n",
    "df = pd.concat(dfs, ignore_index=True)\n",
    "print(f'Total rows loaded: {len(df)}')"
   ]
  },
  {
   "cell_type": "code",
   "execution_count": null,
   "metadata": {},
   "outputs": [],
   "source": [
    "# Data cleaning\n",
    "# Replace blanks with N/A\n",
    "df = df.fillna('N/A')\n",
    "\n",
    "# Convert date fields\n",
    "df[\"Date Added\"] = pd.to_datetime(df[\"Date Added\"], errors='coerce')\n",
    "df[\"Last Assigned\"] = pd.to_datetime(df[\"Last Assigned\"], errors='coerce')\n",
    "\n",
    "# Drop duplicates\n",
    "df = df.drop_duplicates()\n",
    "\n",
    "print(f'Rows after cleaning: {len(df)}')"
   ]
  },
  {
   "cell_type": "code",
   "execution_count": null,
   "metadata": {},
   "outputs": [],
   "source": [
    "# Derive Project column\n",
    "def derive_project(row):\n",
    "    if row.get(\"Interested: Vesper\") == \"Yes\":\n",
    "        return \"Vesper\"\n",
    "    elif row.get(\"Interested: The Code\") == \"Yes\":\n",
    "        return \"The Code\"\n",
    "    elif row.get(\"Interested: Belvedere\") == \"Yes\":\n",
    "        return \"Belvedere\"\n",
    "    else:\n",
    "        return \"Unspecified\"\n",
    "\n",
    "df[\"Project\"] = df.apply(derive_project, axis=1)\n",
    "print('Project column created')"
   ]
  },
  {
   "cell_type": "code",
   "execution_count": null,
   "metadata": {},
   "outputs": [],
   "source": [
    "# Derive Lead Type column\n",
    "df[\"Lead Type\"] = df.apply(\n",
    "    lambda x: \"Reengaged\"\n",
    "    if pd.notnull(x[\"Last Assigned\"]) and x[\"Last Assigned\"] > x[\"Date Added\"]\n",
    "    else \"New\",\n",
    "    axis=1\n",
    ")\n",
    "print('Lead Type column created')"
   ]
  },
  {
   "cell_type": "code",
   "execution_count": null,
   "metadata": {},
   "outputs": [],
   "source": [
    "# Save to data folder\n",
    "output_path = '/content/drive/MyDrive/CRM_Dashboard_Exports/data/combined_crm_leads.csv'\n",
    "os.makedirs(os.path.dirname(output_path), exist_ok=True)\n",
    "df.to_csv(output_path, index=False)\n",
    "\n",
    "print(f'Saved to {output_path}')\n",
    "print(f'Final dataset: {len(df)} rows, {len(df.columns)} columns')"
   ]
  }
 ],
 "metadata": {
  "kernelspec": {
   "display_name": "Python 3",
   "language": "python",
   "name": "python3"
  }
 },
 "nbformat": 4,
 "nbformat_minor": 4
}